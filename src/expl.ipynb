{
 "cells": [
  {
   "cell_type": "code",
   "execution_count": 1,
   "metadata": {},
   "outputs": [],
   "source": [
    "from configuracoes import Config\n",
    "from browser import Browser\n",
    "from banco import ConexaoBanco\n",
    "from selenium.webdriver.common.by import By\n",
    "from models.empresa import Empresa\n",
    "from models.empresa_valor import EmpresaValor\n",
    "from models.setor import Setor\n",
    "import datetime\n",
    "from repositories.empresa_valor_repository import EmpresaValorRepository\n",
    "from repositories.setor_repository import SetorRepository\n",
    "\n",
    "config = Config()\n",
    "setor_repository = SetorRepository(config)\n",
    "empresa_valor_repository = EmpresaValorRepository(config)\n",
    "browser = Browser(config)"
   ]
  },
  {
   "cell_type": "code",
   "execution_count": 2,
   "metadata": {},
   "outputs": [
    {
     "name": "stderr",
     "output_type": "stream",
     "text": [
      "Erro ao procurar elemento: Carregar mais\n"
     ]
    },
    {
     "name": "stdout",
     "output_type": "stream",
     "text": [
      "Erro ao procurar elemento: Carregar mais\n"
     ]
    }
   ],
   "source": [
    "browser.BrowseUrl(r'https://br.tradingview.com/markets/stocks-brazil/market-movers-all-stocks/')\n",
    "\n",
    "xpath_mostrar_mais = '/html/body/div[3]/div[4]/div/div[2]/div/div[4]/div[3]/button'\n",
    "\n",
    "while(browser.WaitFindElement(xpath_mostrar_mais, 'Carregar mais')[0]):\n",
    "    browser.WaitAndClickElement(xpath_mostrar_mais, 'Clicar carregar mais')\n",
    "\n",
    "xpath_empresas = '/html/body/div[3]/div[4]/div/div[2]/div/div[4]/div[2]/div[2]/div/div/table/tbody/tr'\n",
    "elements =  browser.FindElements(xpath_empresas, '')\n",
    "_ , element = browser.WaitFindElement(xpath_empresas, '')\n",
    "\n",
    "sigla = elements[0].find_element(By.XPATH,'.//td[1]/span/a').text\n",
    "url = elements[0].find_element(By.XPATH,'.//td[1]/span/a').get_attribute('href')\n",
    "nome = elements[0].find_element(By.XPATH,'.//td[1]/span/sup').text\n",
    "preco = elements[0].find_element(By.XPATH,'.//td[2]').text\n",
    "variacao = elements[0].find_element(By.XPATH,'.//td[3]').text\n",
    "volume = elements[0].find_element(By.XPATH,'.//td[4]').text\n",
    "volume_real = elements[0].find_element(By.XPATH,'.//td[5]').text\n",
    "valor_mercado = elements[0].find_element(By.XPATH,'.//td[6]').text\n",
    "pl = elements[0].find_element(By.XPATH,'.//td[7]').text\n",
    "eps = elements[0].find_element(By.XPATH,'.//td[8]').text\n",
    "variacao_eps = elements[0].find_element(By.XPATH,'.//td[9]').text\n",
    "diYield = elements[0].find_element(By.XPATH,'.//td[10]').text\n",
    "setor = elements[0].find_element(By.XPATH,'.//td[11]/a').text\n"
   ]
  },
  {
   "cell_type": "code",
   "execution_count": 3,
   "metadata": {},
   "outputs": [],
   "source": [
    "vl =  EmpresaValor(id_empresa=1, data=datetime.datetime.now(),preco=preco,variacao=variacao, volume=volume, volume_real=volume_real, valor_mercado=valor_mercado, pl=pl, eps=eps,\n",
    "                   variacao_eps=variacao_eps,div_yield=diYield)"
   ]
  },
  {
   "cell_type": "code",
   "execution_count": 4,
   "metadata": {},
   "outputs": [
    {
     "name": "stdout",
     "output_type": "stream",
     "text": [
      "INSERT INTO EMPRESA_VALOR (ID_EMPRESA,\n",
      "                                                 DATA_VALOR, \n",
      "                                                 PRECO, \n",
      "                                                 VARIACAO, \n",
      "                                                 VOLUME, \n",
      "                                                 VOLUME_REAL, \n",
      "                                                 VALOR_MERCADO, \n",
      "                                                 PL, \n",
      "                                                 EPS, \n",
      "                                                 VARIACAO_EPS, \n",
      "                                                 DIV_YIELD) \n",
      "                    VALUES (1, \n",
      "                           CONVERT(datetime,'2024-8-22 22:37:31', 121), \n",
      "                           14.3, \n",
      "                           -7.74, \n",
      "                           68700.0,\n",
      "                           0.91, \n",
      "                           1818000000.0, \n",
      "                           NULL, \n",
      "                           NULL, \n",
      "                           NULL, \n",
      "                           0.0)\n"
     ]
    },
    {
     "data": {
      "text/plain": [
       "True"
      ]
     },
     "execution_count": 4,
     "metadata": {},
     "output_type": "execute_result"
    }
   ],
   "source": [
    "empresa_valor_repository.Inserir(vl)"
   ]
  },
  {
   "cell_type": "code",
   "execution_count": 8,
   "metadata": {},
   "outputs": [
    {
     "name": "stdout",
     "output_type": "stream",
     "text": [
      "AALR3 ALLIAR ON NM https://br.tradingview.com/symbols/BMFBOVESPA-AALR3/ 14.3 -7.74 68700.0 0.91 1818000000.0 None None None 0.0 Serviços de Saúde\n"
     ]
    }
   ],
   "source": [
    "print(sigla, nome, url, preco, variacao, volume, volume_real, valor_mercado, pl, eps, variacao_eps, diYield, setor)"
   ]
  },
  {
   "cell_type": "code",
   "execution_count": 10,
   "metadata": {},
   "outputs": [],
   "source": [
    "date = datetime.datetime.now()"
   ]
  },
  {
   "cell_type": "code",
   "execution_count": 17,
   "metadata": {},
   "outputs": [
    {
     "data": {
      "text/plain": [
       "22"
      ]
     },
     "execution_count": 17,
     "metadata": {},
     "output_type": "execute_result"
    }
   ],
   "source": [
    "date.year\n",
    "date.month\n",
    "date.day\n",
    "date.hour\n",
    "date.minute\n",
    "date.second"
   ]
  },
  {
   "cell_type": "code",
   "execution_count": null,
   "metadata": {},
   "outputs": [],
   "source": [
    "elements"
   ]
  },
  {
   "cell_type": "code",
   "execution_count": 67,
   "metadata": {},
   "outputs": [],
   "source": [
    "browser.CloseBrowser()"
   ]
  },
  {
   "cell_type": "code",
   "execution_count": null,
   "metadata": {},
   "outputs": [],
   "source": []
  }
 ],
 "metadata": {
  "kernelspec": {
   "display_name": "Python 3",
   "language": "python",
   "name": "python3"
  },
  "language_info": {
   "codemirror_mode": {
    "name": "ipython",
    "version": 3
   },
   "file_extension": ".py",
   "mimetype": "text/x-python",
   "name": "python",
   "nbconvert_exporter": "python",
   "pygments_lexer": "ipython3",
   "version": "3.11.0"
  }
 },
 "nbformat": 4,
 "nbformat_minor": 2
}
