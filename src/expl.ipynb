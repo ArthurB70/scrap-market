{
 "cells": [
  {
   "cell_type": "code",
   "execution_count": 1,
   "metadata": {},
   "outputs": [],
   "source": [
    "from configuracoes import Config\n",
    "from browser import Browser\n",
    "from banco import ConexaoBanco\n",
    "from selenium.webdriver.common.by import By\n",
    "from models.empresa import Empresa\n",
    "from models.empresa_valor import EmpresaValor\n",
    "from models.setor import Setor\n"
   ]
  },
  {
   "cell_type": "code",
   "execution_count": 2,
   "metadata": {},
   "outputs": [
    {
     "name": "stdout",
     "output_type": "stream",
     "text": [
      "DRIVER={ODBC Driver 17 for SQL Server};Server=ARTHUR;Database=mercado-brasil;UID=web-scrap;PWD=scrap123;\n"
     ]
    }
   ],
   "source": [
    "from repositories.setor_repository import SetorRepository\n",
    "config = Config()\n",
    "setor_repository = SetorRepository(config)"
   ]
  },
  {
   "cell_type": "code",
   "execution_count": 3,
   "metadata": {},
   "outputs": [
    {
     "data": {
      "text/plain": [
       "True"
      ]
     },
     "execution_count": 3,
     "metadata": {},
     "output_type": "execute_result"
    }
   ],
   "source": [
    "setor_att = setor_repository.setores[2]\n",
    "setor_att.nome = 'Alimentos'\n",
    "setor_repository.Atualizar(setor_att)"
   ]
  },
  {
   "cell_type": "code",
   "execution_count": 4,
   "metadata": {},
   "outputs": [
    {
     "data": {
      "text/plain": [
       "True"
      ]
     },
     "execution_count": 4,
     "metadata": {},
     "output_type": "execute_result"
    }
   ],
   "source": [
    "setor_repository.Inserir('Ferro')"
   ]
  },
  {
   "cell_type": "code",
   "execution_count": 5,
   "metadata": {},
   "outputs": [
    {
     "data": {
      "text/plain": [
       "[Id: 1\tNome: Petróleo,\n",
       " Id: 2\tNome: Tecnologia,\n",
       " Id: 3\tNome: Alimentos,\n",
       " Id: 5\tNome: Ferro]"
      ]
     },
     "execution_count": 5,
     "metadata": {},
     "output_type": "execute_result"
    }
   ],
   "source": [
    "setor_repository.setores"
   ]
  },
  {
   "cell_type": "code",
   "execution_count": 3,
   "metadata": {},
   "outputs": [
    {
     "name": "stdout",
     "output_type": "stream",
     "text": [
      "DRIVER={ODBC Driver 17 for SQL Server};Server=ARTHUR;Database=mercado-brasil;UID=web-scrap;PWD=scrap123;\n"
     ]
    }
   ],
   "source": [
    "\n",
    "#browser = Browser(config)\n",
    "banco = ConexaoBanco(config)\n"
   ]
  },
  {
   "cell_type": "code",
   "execution_count": 5,
   "metadata": {},
   "outputs": [
    {
     "data": {
      "text/plain": [
       "[(1, 'Petróleo'), (2, 'Tecnologia'), (3, 'Tecnologia'), (4, 'Tecnologia')]"
      ]
     },
     "execution_count": 5,
     "metadata": {},
     "output_type": "execute_result"
    }
   ],
   "source": [
    "sql = \"SELECT ID, NOME FROM SETOR\"\n",
    "sql_insert = \"INSERT INTO SETOR (NOME) VALUES ('Tecnologia')\"\n",
    "banco.ExecutarComando(sql)"
   ]
  },
  {
   "cell_type": "code",
   "execution_count": 3,
   "metadata": {},
   "outputs": [
    {
     "name": "stdout",
     "output_type": "stream",
     "text": [
      "12.5\n",
      "8.23\n",
      "71900.0\n",
      "1.39\n",
      "1466000000.0\n",
      "None\n"
     ]
    }
   ],
   "source": [
    "#AALR3 ALLIAR ON NM 12,50 BRL +8,23% 71,9 K 1,39 1,466 B BRL — — — 0,00% Serviços de Saúde\n",
    "print(EmpresaValor.FormatarDecimal(valor='12,50 BRL'))\n",
    "print(EmpresaValor.FormatarDecimal(valor='+8,23%'))\n",
    "print(EmpresaValor.FormatarDecimal(valor='71,9 K'))\n",
    "print(EmpresaValor.FormatarDecimal(valor='1,39'))\n",
    "print(EmpresaValor.FormatarDecimal(valor='1,466 B BRL'))\n",
    "print(EmpresaValor.FormatarDecimal(valor='—'))"
   ]
  },
  {
   "cell_type": "code",
   "execution_count": 11,
   "metadata": {},
   "outputs": [
    {
     "data": {
      "text/plain": [
       "[(1, 'petrobras', 'petr', 'https://google.com.br')]"
      ]
     },
     "execution_count": 11,
     "metadata": {},
     "output_type": "execute_result"
    }
   ],
   "source": [
    "banco.ExecutarComando(sql='SELECT * FROM EMPRESA')"
   ]
  },
  {
   "cell_type": "code",
   "execution_count": 33,
   "metadata": {},
   "outputs": [],
   "source": [
    "browser.BrowseUrl(r'https://br.tradingview.com/markets/stocks-brazil/market-movers-all-stocks/')"
   ]
  },
  {
   "cell_type": "code",
   "execution_count": 34,
   "metadata": {},
   "outputs": [
    {
     "name": "stderr",
     "output_type": "stream",
     "text": [
      "Erro ao procurar elemento: Carregar mais\n"
     ]
    },
    {
     "name": "stdout",
     "output_type": "stream",
     "text": [
      "Erro ao procurar elemento: Carregar mais\n"
     ]
    }
   ],
   "source": [
    "xpath_mostrar_mais = '/html/body/div[3]/div[4]/div/div[2]/div/div[4]/div[3]/button'\n",
    "\n",
    "while(browser.WaitFindElement(xpath_mostrar_mais, 'Carregar mais')[0]):\n",
    "    browser.WaitAndClickElement(xpath_mostrar_mais, 'Clicar carregar mais')"
   ]
  },
  {
   "cell_type": "code",
   "execution_count": 44,
   "metadata": {},
   "outputs": [],
   "source": [
    "xpath_empresas = '/html/body/div[3]/div[4]/div/div[2]/div/div[4]/div[2]/div[2]/div/div/table/tbody/tr'\n",
    "elements =  browser.FindElements(xpath_empresas, '')\n",
    "_ , element = browser.WaitFindElement(xpath_empresas, '')"
   ]
  },
  {
   "cell_type": "code",
   "execution_count": 65,
   "metadata": {},
   "outputs": [],
   "source": [
    "sigla = elements[0].find_element(By.XPATH,'.//td[1]/span/a').text\n",
    "nome = elements[0].find_element(By.XPATH,'.//td[1]/span/sup').text\n",
    "preco = elements[0].find_element(By.XPATH,'.//td[2]').text\n",
    "variacao = elements[0].find_element(By.XPATH,'.//td[3]').text\n",
    "volume = elements[0].find_element(By.XPATH,'.//td[4]').text\n",
    "volume_real = elements[0].find_element(By.XPATH,'.//td[5]').text\n",
    "valor_mercado = elements[0].find_element(By.XPATH,'.//td[6]').text\n",
    "pl = elements[0].find_element(By.XPATH,'.//td[7]').text\n",
    "eps = elements[0].find_element(By.XPATH,'.//td[8]').text\n",
    "variacao_eps = elements[0].find_element(By.XPATH,'.//td[9]').text\n",
    "diYield = elements[0].find_element(By.XPATH,'.//td[10]').text\n",
    "setor = elements[0].find_element(By.XPATH,'.//td[11]/a').text\n"
   ]
  },
  {
   "cell_type": "code",
   "execution_count": 66,
   "metadata": {},
   "outputs": [
    {
     "name": "stdout",
     "output_type": "stream",
     "text": [
      "AALR3 ALLIAR ON NM 12,50 BRL +8,23% 71,9 K 1,39 1,466 B BRL — — — 0,00% Serviços de Saúde\n"
     ]
    }
   ],
   "source": [
    "print(sigla, nome, preco, variacao, volume, volume_real, valor_mercado, pl, eps, variacao_eps, diYield, setor)"
   ]
  },
  {
   "cell_type": "code",
   "execution_count": 64,
   "metadata": {},
   "outputs": [
    {
     "data": {
      "text/plain": [
       "'+8,23%'"
      ]
     },
     "execution_count": 64,
     "metadata": {},
     "output_type": "execute_result"
    }
   ],
   "source": [
    "variacao"
   ]
  },
  {
   "cell_type": "code",
   "execution_count": null,
   "metadata": {},
   "outputs": [],
   "source": [
    "elements"
   ]
  },
  {
   "cell_type": "code",
   "execution_count": 67,
   "metadata": {},
   "outputs": [],
   "source": [
    "browser.CloseBrowser()"
   ]
  },
  {
   "cell_type": "code",
   "execution_count": null,
   "metadata": {},
   "outputs": [],
   "source": []
  }
 ],
 "metadata": {
  "kernelspec": {
   "display_name": "Python 3",
   "language": "python",
   "name": "python3"
  },
  "language_info": {
   "codemirror_mode": {
    "name": "ipython",
    "version": 3
   },
   "file_extension": ".py",
   "mimetype": "text/x-python",
   "name": "python",
   "nbconvert_exporter": "python",
   "pygments_lexer": "ipython3",
   "version": "3.11.0"
  }
 },
 "nbformat": 4,
 "nbformat_minor": 2
}
